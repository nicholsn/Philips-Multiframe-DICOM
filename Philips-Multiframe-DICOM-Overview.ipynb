{
 "metadata": {
  "name": "Philips-Multiframe-DICOM-Overview"
 },
 "nbformat": 3,
 "nbformat_minor": 0,
 "worksheets": [
  {
   "cells": [
    {
     "cell_type": "markdown",
     "metadata": {},
     "source": [
      "# An Introduction to Philips \"Enhanced\" Multiframe DICOM\n",
      "\n",
      "- Written by: [Nolan Nichols](http://www.linkedin.com/in/nolannichols/)"
     ]
    },
    {
     "cell_type": "markdown",
     "metadata": {},
     "source": [
      "# What is Philips Enhanced DICOM (eDICOM)?\n",
      "\n",
      "- eDICOM is an implementation of [Multiframe DICOM](ftp://medical.nema.org/medical/dicom/final/sup49_ft.pdf)\n",
      "- a multiframe file stacks all image slices within a single file\n",
      "- with classic DICOM each slice is generally stored as a separate file, although other multislice formats exist (e.g., Siemens Mosaic)\n",
      "- we'll use the excellent [pyDICOM](https://code.google.com/p/pydicom/) library to work with examples of eDICOM\n",
      "- Phantom data exist online in XNAT Central for: \n",
      "  - [MPRAGE](https://central.xnat.org/data/experiments/CENTRAL_E03924/scans/301/resources/123221952/files/R3.2.2_Enhanced_Dicom_Phantom.MR.R3_2_2_Enhanced_Dicom_Phantom.301.1.20120310.163032.wlobzh.dcm)\n",
      "    - [EPI BOLD](https://central.xnat.org/data/experiments/CENTRAL_E03924/scans/501/resources/123221956/files/R3.2.2_Enhanced_Dicom_Phantom.MR.R3_2_2_Enhanced_Dicom_Phantom.501.1.20120310.163032.4j63ft.dcm)\n",
      "    - [B0](https://central.xnat.org/data/experiments/CENTRAL_E03924/scans/701/resources/123221958/files/R3.2.2_Enhanced_Dicom_Phantom.MR.R3_2_2_Enhanced_Dicom_Phantom.701.1.20120310.163032.13mr7h1.dcm)\n",
      "    - [DTI](https://central.xnat.org/data/experiments/CENTRAL_E03924/scans/801/resources/123221960/files/R3.2.2_Enhanced_Dicom_Phantom.MR.R3_2_2_Enhanced_Dicom_Phantom.801.1.20120310.163032.nmnl21.dcm)\n",
      "   "
     ]
    },
    {
     "cell_type": "code",
     "collapsed": false,
     "input": [
      "import dicom"
     ],
     "language": "python",
     "metadata": {},
     "outputs": [],
     "prompt_number": 1
    },
    {
     "cell_type": "code",
     "collapsed": false,
     "input": [],
     "language": "python",
     "metadata": {},
     "outputs": [],
     "prompt_number": 2
    },
    {
     "cell_type": "markdown",
     "metadata": {},
     "source": [
      "- arranged as a single 2D stack of frames"
     ]
    },
    {
     "cell_type": "code",
     "collapsed": false,
     "input": [
      "data = dcm.pixel_array\n",
      "data.shape"
     ],
     "language": "python",
     "metadata": {},
     "outputs": [
      {
       "output_type": "pyout",
       "prompt_number": 4,
       "text": [
        "(960, 96, 96)"
       ]
      }
     ],
     "prompt_number": 4
    },
    {
     "cell_type": "markdown",
     "metadata": {},
     "source": [
      "# Frames are organized in a PerFrameFunctionalGroupSequence"
     ]
    },
    {
     "cell_type": "code",
     "collapsed": false,
     "input": [
      "frames = dcm.PerFrameFunctionalGroupsSequence"
     ],
     "language": "python",
     "metadata": {},
     "outputs": [],
     "prompt_number": 5
    },
    {
     "cell_type": "code",
     "collapsed": false,
     "input": [
      "len(frames)"
     ],
     "language": "python",
     "metadata": {},
     "outputs": [
      {
       "output_type": "pyout",
       "prompt_number": 6,
       "text": [
        "960"
       ]
      }
     ],
     "prompt_number": 6
    },
    {
     "cell_type": "markdown",
     "metadata": {},
     "source": [
      "# Each Functional Group Frame contains"
     ]
    },
    {
     "cell_type": "code",
     "collapsed": false,
     "input": [
      "frame0 = frames[0]\n"
     ],
     "language": "python",
     "metadata": {},
     "outputs": []
    },
    {
     "cell_type": "markdown",
     "metadata": {},
     "source": [
      "# Arterial Spin Labeling (ASL)\n",
      "\n",
      "- a special case example of how some eDICOM files are organized\n",
      "- some refer to these a \"6D\" files\n",
      "- no exampels of this exist online (that I'm aware of), so this example will be loaded locally provide "
     ]
    },
    {
     "cell_type": "code",
     "collapsed": false,
     "input": [
      "asl = dicom.read_file(\"asl/asl.dcm\")"
     ],
     "language": "python",
     "metadata": {},
     "outputs": [],
     "prompt_number": 7
    },
    {
     "cell_type": "code",
     "collapsed": false,
     "input": [],
     "language": "python",
     "metadata": {},
     "outputs": []
    }
   ],
   "metadata": {}
  }
 ]
}